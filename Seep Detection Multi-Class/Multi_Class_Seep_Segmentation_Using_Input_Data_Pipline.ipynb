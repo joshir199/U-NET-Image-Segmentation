{
  "nbformat": 4,
  "nbformat_minor": 0,
  "metadata": {
    "colab": {
      "provenance": []
    },
    "kernelspec": {
      "name": "python3",
      "display_name": "Python 3"
    },
    "language_info": {
      "name": "python"
    }
  },
  "cells": [
    {
      "cell_type": "code",
      "execution_count": 1,
      "metadata": {
        "colab": {
          "base_uri": "https://localhost:8080/"
        },
        "id": "BP338WFLjthj",
        "outputId": "01099baf-b416-4aeb-c219-67e5b435d529"
      },
      "outputs": [
        {
          "output_type": "stream",
          "name": "stdout",
          "text": [
            "Collecting git+https://github.com/tensorflow/examples.git\n",
            "  Cloning https://github.com/tensorflow/examples.git to /tmp/pip-req-build-1813_06c\n",
            "  Running command git clone --filter=blob:none --quiet https://github.com/tensorflow/examples.git /tmp/pip-req-build-1813_06c\n",
            "  Resolved https://github.com/tensorflow/examples.git to commit 0bbf4fe43fbf41b7174b9ce4a64d69bd33aadd21\n",
            "  Preparing metadata (setup.py) ... \u001b[?25l\u001b[?25hdone\n",
            "Requirement already satisfied: absl-py in /usr/local/lib/python3.10/dist-packages (from tensorflow-examples==0.1689703202.67065300351684276117070052891639684042406419745) (1.4.0)\n",
            "Requirement already satisfied: six in /usr/local/lib/python3.10/dist-packages (from tensorflow-examples==0.1689703202.67065300351684276117070052891639684042406419745) (1.16.0)\n",
            "Building wheels for collected packages: tensorflow-examples\n",
            "  Building wheel for tensorflow-examples (setup.py) ... \u001b[?25l\u001b[?25hdone\n",
            "  Created wheel for tensorflow-examples: filename=tensorflow_examples-0.1689703202.67065300351684276117070052891639684042406419745-py3-none-any.whl size=301556 sha256=7457161e79c7d4342544d23135795ebd32b758e1d525354c87bbb8b104ed2070\n",
            "  Stored in directory: /tmp/pip-ephem-wheel-cache-4zjwkppb/wheels/72/5f/d0/7fe769eaa229bf20101d11a357eb23c83c481bee2d7f710599\n",
            "Successfully built tensorflow-examples\n",
            "Installing collected packages: tensorflow-examples\n",
            "Successfully installed tensorflow-examples-0.1689703202.67065300351684276117070052891639684042406419745\n"
          ]
        }
      ],
      "source": [
        "# Install package containing prebuilt image models\n",
        "!pip install git+https://github.com/tensorflow/examples.git"
      ]
    },
    {
      "cell_type": "code",
      "source": [
        "import os\n",
        "import tensorflow as tf\n",
        "from tqdm import tqdm\n",
        "import cv2"
      ],
      "metadata": {
        "id": "J8yEt_CBj3HH"
      },
      "execution_count": 2,
      "outputs": []
    },
    {
      "cell_type": "code",
      "source": [
        "print(tf.__version__)"
      ],
      "metadata": {
        "colab": {
          "base_uri": "https://localhost:8080/"
        },
        "id": "F-1vwPsPkBn3",
        "outputId": "77c213b0-57fe-4909-c377-b791d8764e43"
      },
      "execution_count": 3,
      "outputs": [
        {
          "output_type": "stream",
          "name": "stdout",
          "text": [
            "2.12.0\n"
          ]
        }
      ]
    },
    {
      "cell_type": "code",
      "source": [
        "import numpy as np"
      ],
      "metadata": {
        "id": "79Fc1ZVls5RW"
      },
      "execution_count": 4,
      "outputs": []
    },
    {
      "cell_type": "code",
      "source": [
        "# need to mount google drive to fetch dataset\n",
        "from google.colab import drive\n",
        "drive.mount('/content/drive')"
      ],
      "metadata": {
        "colab": {
          "base_uri": "https://localhost:8080/"
        },
        "id": "hdO9vei6kQXf",
        "outputId": "1902df59-9b92-4ed0-f52b-7e7f4c9469ab"
      },
      "execution_count": 5,
      "outputs": [
        {
          "output_type": "stream",
          "name": "stdout",
          "text": [
            "Mounted at /content/drive\n"
          ]
        }
      ]
    },
    {
      "cell_type": "code",
      "source": [
        "DATA_PATH_X = '/content/drive/MyDrive/Colab Notebooks/seep_detection/train_images_256'\n",
        "DATA_PATH_Y = '/content/drive/MyDrive/Colab Notebooks/seep_detection/train_masks_256'\n",
        "\n",
        "image_files = []\n",
        "mask_files = []\n",
        "\n",
        "# Fetching Input image data path into list\n",
        "for root, dirs, files in os.walk(DATA_PATH_X):\n",
        "    for file in tqdm(files):\n",
        "        img_path = os.path.join(DATA_PATH_X, file)\n",
        "        mask_path = os.path.join(DATA_PATH_Y, file)\n",
        "        image_files.append(img_path)\n",
        "        mask_files.append(mask_path)"
      ],
      "metadata": {
        "colab": {
          "base_uri": "https://localhost:8080/"
        },
        "id": "i8On5N2hkH8d",
        "outputId": "837e036b-37c1-4ec3-bc38-db050c35142f"
      },
      "execution_count": 6,
      "outputs": [
        {
          "output_type": "stream",
          "name": "stderr",
          "text": [
            "100%|██████████| 790/790 [00:00<00:00, 164164.69it/s]\n"
          ]
        }
      ]
    },
    {
      "cell_type": "code",
      "source": [
        "from sklearn.model_selection import train_test_split\n",
        "#Shuffling and splitting total data(1000 image-mask pair) into Train and Test data with split of (90%, 10%)\n",
        "train_X, test_X, train_Y, test_Y = train_test_split(image_files, mask_files, test_size=0.1, random_state=33)"
      ],
      "metadata": {
        "id": "VBtzKx_0wyzB"
      },
      "execution_count": 7,
      "outputs": []
    },
    {
      "cell_type": "code",
      "source": [
        "len(train_X)"
      ],
      "metadata": {
        "colab": {
          "base_uri": "https://localhost:8080/"
        },
        "id": "eyj6bxYTKzlL",
        "outputId": "ed0eaf69-f69b-4313-f9af-29cedb066df1"
      },
      "execution_count": 8,
      "outputs": [
        {
          "output_type": "execute_result",
          "data": {
            "text/plain": [
              "711"
            ]
          },
          "metadata": {},
          "execution_count": 8
        }
      ]
    },
    {
      "cell_type": "code",
      "source": [
        "# need to use openCV for readinf .tif images and making it part of\n",
        "# tf.data.Dataset pipeline\n",
        "def parse_with_opencv(image_path):\n",
        "  image = cv2.imread(image_path.decode('UTF-8'))\n",
        "  image = cv2.resize(image, (128, 128))\n",
        "  return image"
      ],
      "metadata": {
        "id": "yGMgsxvkkH16"
      },
      "execution_count": 9,
      "outputs": []
    },
    {
      "cell_type": "code",
      "source": [
        "def parse_mask_with_opencv(image_path):\n",
        "  image = cv2.imread(image_path.decode('UTF-8'))\n",
        "  image = cv2.resize(image, (128, 128))\n",
        "  image = cv2.cvtColor(image, cv2.COLOR_BGR2GRAY)\n",
        "  #image = tf.reshape(image, shape=[256,256,1])\n",
        "  image = np.expand_dims(image, -1)\n",
        "  return image"
      ],
      "metadata": {
        "id": "RjMgUpn6pd8B"
      },
      "execution_count": 10,
      "outputs": []
    },
    {
      "cell_type": "code",
      "source": [
        "image_files[0], mask_files[0]"
      ],
      "metadata": {
        "colab": {
          "base_uri": "https://localhost:8080/"
        },
        "id": "mr-lFvh4kiat",
        "outputId": "b08c4d64-e1fe-4ec0-db3d-c1edf7b86b49"
      },
      "execution_count": 11,
      "outputs": [
        {
          "output_type": "execute_result",
          "data": {
            "text/plain": [
              "('/content/drive/MyDrive/Colab Notebooks/seep_detection/train_images_256/041869.000045.tif',\n",
              " '/content/drive/MyDrive/Colab Notebooks/seep_detection/train_masks_256/041869.000045.tif')"
            ]
          },
          "metadata": {},
          "execution_count": 11
        }
      ]
    },
    {
      "cell_type": "code",
      "source": [
        "# common error when decoding file_path as string from string Tensor, in pipeline (not outside):\n",
        "# following code did not worked:\n",
        "# image = tifffile.imread(file_path)\n",
        "# error happens is pathname is not string but tensor\n",
        "# following method do not worked to resolve above\n",
        "# 1. tf.strings.decode(eager_tensor[0], 'utf-8')\n",
        "#-> AttributeError: module 'tensorflow._api.v2.strings' has no attribute 'decode'\n",
        "# 2. img_ptth = img_tensor[0].numpy().decode('utf-8')\n",
        "# -> AttributeError: 'Tensor' object has no attribute 'numpy'"
      ],
      "metadata": {
        "id": "2sSywRBe7XnB"
      },
      "execution_count": null,
      "outputs": []
    },
    {
      "cell_type": "code",
      "source": [
        "# map is required as image needs to read and decoded in proper format. (only for local dataset)\n",
        "train_image_ds = tf.data.Dataset.from_tensor_slices((train_X)).map(\n",
        "    lambda x: tf.numpy_function(parse_with_opencv, [x], Tout=tf.uint8)\n",
        ")\n",
        "\n",
        "train_mask_ds = tf.data.Dataset.from_tensor_slices((train_Y)).map(\n",
        "    lambda x: tf.numpy_function(parse_mask_with_opencv, [x], Tout=tf.uint8)\n",
        ")\n",
        "train_dataset = tf.data.Dataset.zip((train_image_ds, train_mask_ds))"
      ],
      "metadata": {
        "id": "Nv7r0VImkiXI"
      },
      "execution_count": 12,
      "outputs": []
    },
    {
      "cell_type": "code",
      "source": [
        "test_image_ds = tf.data.Dataset.from_tensor_slices((test_X)).map(\n",
        "    lambda x: tf.numpy_function(parse_with_opencv, [x], Tout=tf.uint8)\n",
        ")\n",
        "\n",
        "test_mask_ds = tf.data.Dataset.from_tensor_slices((test_Y)).map(\n",
        "    lambda x: tf.numpy_function(parse_mask_with_opencv, [x], Tout=tf.uint8)\n",
        ")\n",
        "test_dataset = tf.data.Dataset.zip((test_image_ds, test_mask_ds))"
      ],
      "metadata": {
        "id": "dPOOEFgwkiT3"
      },
      "execution_count": 13,
      "outputs": []
    },
    {
      "cell_type": "code",
      "source": [
        "def normalize(input_image, input_mask):\n",
        "  input_image = tf.cast(input_image, tf.float32) / 255.0\n",
        "  return input_image, input_mask"
      ],
      "metadata": {
        "id": "M8fE6b0ml0cZ"
      },
      "execution_count": 14,
      "outputs": []
    },
    {
      "cell_type": "code",
      "source": [
        "@tf.function\n",
        "def load_image_train(image_tensor, mask_tensor):\n",
        "\n",
        "  # Preprocessing layer\n",
        "  #input_image = tf.image.resize(image_tensor, (256, 256))\n",
        "  #input_mask = tf.image.resize(mask_tensor, (256, 256))\n",
        "\n",
        "  # Image Augmentation layers : random flip\n",
        "  # if tf.random.uniform(()) > 0.5:\n",
        "  #   input_image = tf.image.flip_left_right(input_image)\n",
        "  #   input_mask = tf.image.flip_left_right(input_mask)\n",
        "  #   input_image = tf.image.flip_up_down(input_image)\n",
        "  #   input_mask = tf.image.flip_up_down(input_mask)\n",
        "\n",
        "  # Image augmentation layer : random crop\n",
        "  image = tf.reshape(image_tensor, shape=[128,128,3])\n",
        "  mask = tf.reshape(mask_tensor, shape=[128,128,1])\n",
        "\n",
        "  input_image, input_mask = normalize(image_tensor, mask_tensor)\n",
        "\n",
        "  return input_image, input_mask"
      ],
      "metadata": {
        "id": "tdun1X0zl0Sw"
      },
      "execution_count": 15,
      "outputs": []
    },
    {
      "cell_type": "code",
      "source": [
        "# No augmentation is not needed for test dataset\n",
        "\n",
        "def load_image_test(image_tensor, mask_tensor):\n",
        "  #input_image = tf.image.resize(datapoint['image'], (128, 128))\n",
        "  #input_mask = tf.image.resize(datapoint['segmentation_mask'], (128, 128))\n",
        "\n",
        "  image = tf.reshape(image_tensor, shape=[128,128,3])\n",
        "  mask = tf.reshape(mask_tensor, shape=[128,128,1])\n",
        "\n",
        "  input_image, input_mask = normalize(image_tensor, mask_tensor)\n",
        "\n",
        "  return input_image, input_mask"
      ],
      "metadata": {
        "id": "ic7xle-dwBZ8"
      },
      "execution_count": 16,
      "outputs": []
    },
    {
      "cell_type": "code",
      "source": [
        "TRAIN_LEN = 711\n",
        "BATCH_SIZE = 32\n",
        "BUFFER_SIZE = 100\n",
        "STEPS_PER_EPOCH = TRAIN_LEN // BATCH_SIZE"
      ],
      "metadata": {
        "id": "ECwci9ETl0P3"
      },
      "execution_count": 17,
      "outputs": []
    },
    {
      "cell_type": "code",
      "source": [
        "# Visualize the datset\n",
        "import matplotlib.pyplot as plt\n",
        "def display(display_list):\n",
        "  plt.figure(figsize=(15, 15))\n",
        "\n",
        "  title = ['Input Image', 'True Mask', 'Predicted Mask']\n",
        "\n",
        "  for i in range(len(display_list)):\n",
        "    plt.subplot(1, len(display_list), i+1)\n",
        "    plt.title(title[i])\n",
        "    plt.imshow(tf.keras.preprocessing.image.array_to_img(display_list[i]))\n",
        "    plt.axis('off')\n",
        "  plt.show()"
      ],
      "metadata": {
        "id": "W0-DRY2ml0NH"
      },
      "execution_count": 18,
      "outputs": []
    },
    {
      "cell_type": "code",
      "source": [
        "train = train_dataset.map(load_image_train, num_parallel_calls=tf.data.experimental.AUTOTUNE)"
      ],
      "metadata": {
        "id": "yCu2pCpal0JR"
      },
      "execution_count": 19,
      "outputs": []
    },
    {
      "cell_type": "code",
      "source": [
        "for img, msk in train.take(4):\n",
        "  sample_img, sample_msk = img, msk\n",
        "  break;"
      ],
      "metadata": {
        "id": "K4iW599Su7-i"
      },
      "execution_count": 20,
      "outputs": []
    },
    {
      "cell_type": "code",
      "source": [
        "display([sample_img, sample_msk])"
      ],
      "metadata": {
        "colab": {
          "base_uri": "https://localhost:8080/",
          "height": 587
        },
        "id": "MAd7wDNtvIhZ",
        "outputId": "946df99a-5f27-4ba3-b1a1-98e5564590f4"
      },
      "execution_count": 21,
      "outputs": [
        {
          "output_type": "display_data",
          "data": {
            "text/plain": [
              "<Figure size 1500x1500 with 2 Axes>"
            ],
            "image/png": "[encoded data removed]"
          },
          "metadata": {}
        }
      ]
    },
    {
      "cell_type": "code",
      "source": [
        "sample_msk, np.unique(sample_msk.numpy())"
      ],
      "metadata": {
        "colab": {
          "base_uri": "https://localhost:8080/"
        },
        "id": "RCFAQIXfMElF",
        "outputId": "e7de33df-0f48-4d3c-9168-7d3157cfa091"
      },
      "execution_count": 22,
      "outputs": [
        {
          "output_type": "execute_result",
          "data": {
            "text/plain": [
              "(<tf.Tensor: shape=(128, 128, 1), dtype=uint8, numpy=\n",
              " array([[[0],\n",
              "         [0],\n",
              "         [0],\n",
              "         ...,\n",
              "         [0],\n",
              "         [0],\n",
              "         [0]],\n",
              " \n",
              "        [[0],\n",
              "         [0],\n",
              "         [3],\n",
              "         ...,\n",
              "         [0],\n",
              "         [0],\n",
              "         [0]],\n",
              " \n",
              "        [[0],\n",
              "         [0],\n",
              "         [5],\n",
              "         ...,\n",
              "         [0],\n",
              "         [0],\n",
              "         [0]],\n",
              " \n",
              "        ...,\n",
              " \n",
              "        [[0],\n",
              "         [0],\n",
              "         [0],\n",
              "         ...,\n",
              "         [0],\n",
              "         [0],\n",
              "         [0]],\n",
              " \n",
              "        [[0],\n",
              "         [0],\n",
              "         [0],\n",
              "         ...,\n",
              "         [0],\n",
              "         [0],\n",
              "         [0]],\n",
              " \n",
              "        [[0],\n",
              "         [0],\n",
              "         [0],\n",
              "         ...,\n",
              "         [0],\n",
              "         [0],\n",
              "         [0]]], dtype=uint8)>,\n",
              " array([0, 1, 3, 4, 5], dtype=uint8))"
            ]
          },
          "metadata": {},
          "execution_count": 22
        }
      ]
    },
    {
      "cell_type": "code",
      "source": [
        "# Note: shape needs to set again if\n",
        "# .map(lambda x: tf.numpy_function(parse_mask_with_opencv, [x], Tout=tf.uint8) is\n",
        "# used in the pipeline.\n",
        "# common error : ValueError: as_list() is not defined on an unknown TensorShape.\n",
        "# for more detials:\n",
        "# https://discuss.tensorflow.org/t/valueerror-as-list-is-not-defined-on-an-unknown-tensorshape/5577\n",
        "def _fixup_shape(images, masks):\n",
        "    images.set_shape([128, 128, 3])\n",
        "    masks.set_shape([128, 128, 1]) # I have 19 classes\n",
        "    # weights.set_shape([None])\n",
        "    return images, masks"
      ],
      "metadata": {
        "id": "8xNo4c6ocSU9"
      },
      "execution_count": 1,
      "outputs": []
    },
    {
      "cell_type": "code",
      "source": [
        "train_ds = (\n",
        "    train_dataset\n",
        "    .map(load_image_train, num_parallel_calls=tf.data.experimental.AUTOTUNE)\n",
        "    .map(_fixup_shape)\n",
        "    .cache()\n",
        "    .shuffle(BUFFER_SIZE)\n",
        "    .batch(BATCH_SIZE)\n",
        "    .repeat()\n",
        "    .prefetch(buffer_size = tf.data.experimental.AUTOTUNE)\n",
        "    )\n",
        "\n",
        "test_ds = (\n",
        "    test_dataset\n",
        "    .map(load_image_test)\n",
        "    .map(_fixup_shape)\n",
        "    .batch(BATCH_SIZE)\n",
        "    .prefetch(buffer_size = tf.data.experimental.AUTOTUNE)\n",
        ")"
      ],
      "metadata": {
        "id": "pp8WQsNCvdyC"
      },
      "execution_count": 24,
      "outputs": []
    },
    {
      "cell_type": "code",
      "source": [
        "arr = []\n",
        "for img, msk in train.take(20):\n",
        "  sample_img, sample_msk = img, msk\n",
        "  arr.append(np.unique(sample_msk.numpy()))"
      ],
      "metadata": {
        "id": "GljqZvQ7KAqb"
      },
      "execution_count": 31,
      "outputs": []
    },
    {
      "cell_type": "code",
      "source": [
        "arr"
      ],
      "metadata": {
        "colab": {
          "base_uri": "https://localhost:8080/"
        },
        "id": "uFoJWZ6Kmh01",
        "outputId": "10ed692d-b85c-4d09-ae62-5461a5e7a001"
      },
      "execution_count": 32,
      "outputs": [
        {
          "output_type": "execute_result",
          "data": {
            "text/plain": [
              "[array([0, 1, 3, 4, 5], dtype=uint8),\n",
              " array([0, 1, 2, 3, 4], dtype=uint8),\n",
              " array([0, 1, 3, 4, 5], dtype=uint8),\n",
              " array([0, 1, 2, 4, 5, 7], dtype=uint8),\n",
              " array([0, 1, 2, 3, 4, 5], dtype=uint8),\n",
              " array([0, 1], dtype=uint8),\n",
              " array([0, 1, 2, 3, 5, 6], dtype=uint8),\n",
              " array([0, 1], dtype=uint8),\n",
              " array([0, 1, 2], dtype=uint8),\n",
              " array([0, 1], dtype=uint8),\n",
              " array([0, 1, 2, 3], dtype=uint8),\n",
              " array([0, 1, 3, 4, 5], dtype=uint8),\n",
              " array([0, 2, 3, 5, 6], dtype=uint8),\n",
              " array([0, 1], dtype=uint8),\n",
              " array([0, 1], dtype=uint8),\n",
              " array([0, 2, 3, 5, 6], dtype=uint8),\n",
              " array([0, 1, 2], dtype=uint8),\n",
              " array([0, 1, 2, 4, 5, 7], dtype=uint8),\n",
              " array([0, 1, 2, 3, 5, 6], dtype=uint8),\n",
              " array([0, 1], dtype=uint8)]"
            ]
          },
          "metadata": {},
          "execution_count": 32
        }
      ]
    },
    {
      "cell_type": "code",
      "source": [
        "display([sample_img, sample_msk])"
      ],
      "metadata": {
        "colab": {
          "base_uri": "https://localhost:8080/",
          "height": 587
        },
        "id": "LGEYaIWrKAlI",
        "outputId": "f5902754-4c48-42fd-95e6-335f56fe0a56"
      },
      "execution_count": 33,
      "outputs": [
        {
          "output_type": "display_data",
          "data": {
            "text/plain": [
              "<Figure size 1500x1500 with 2 Axes>"
            ],
            "image/png": "[encoded data removed]"
          },
          "metadata": {}
        }
      ]
    },
    {
      "cell_type": "code",
      "source": [
        "sample_img.shape.as_list(), sample_msk.shape.as_list()"
      ],
      "metadata": {
        "colab": {
          "base_uri": "https://localhost:8080/"
        },
        "id": "ckrG7-gCLI91",
        "outputId": "e833778f-f3b7-4026-ceee-70cb8bce822b"
      },
      "execution_count": 34,
      "outputs": [
        {
          "output_type": "execute_result",
          "data": {
            "text/plain": [
              "([128, 128, 3], [128, 128, 1])"
            ]
          },
          "metadata": {},
          "execution_count": 34
        }
      ]
    },
    {
      "cell_type": "code",
      "source": [
        "# Setting number of output channels : number of classes = 8 : [0, 1, 2, 3, 4, 5, 6, 7]\n",
        "OUTPUT_CHANNELS = 8"
      ],
      "metadata": {
        "id": "Q5fvK1OHvds_"
      },
      "execution_count": 35,
      "outputs": []
    },
    {
      "cell_type": "code",
      "source": [
        "from tensorflow_examples.models.pix2pix import pix2pix\n"
      ],
      "metadata": {
        "id": "1Gs_XNWbvdph"
      },
      "execution_count": 36,
      "outputs": []
    },
    {
      "cell_type": "code",
      "source": [
        "# Input size is very important to mention as weights according to the input size will be downloaded\n",
        "base_model = tf.keras.applications.MobileNetV2(input_shape=[128, 128, 3], include_top=False)"
      ],
      "metadata": {
        "colab": {
          "base_uri": "https://localhost:8080/"
        },
        "id": "BP3YWRYLvdhX",
        "outputId": "35684cf4-087f-429b-fbfb-fad8c2c63941"
      },
      "execution_count": 37,
      "outputs": [
        {
          "output_type": "stream",
          "name": "stdout",
          "text": [
            "Downloading data from https://storage.googleapis.com/tensorflow/keras-applications/mobilenet_v2/mobilenet_v2_weights_tf_dim_ordering_tf_kernels_1.0_128_no_top.h5\n",
            "9406464/9406464 [==============================] - 1s 0us/step\n"
          ]
        }
      ]
    },
    {
      "cell_type": "code",
      "source": [
        "layer_names = [\n",
        "    'block_1_expand_relu',   # 64x64\n",
        "    'block_3_expand_relu',   # 32x32\n",
        "    'block_6_expand_relu',   # 16x16\n",
        "    'block_13_expand_relu',  # 8x8\n",
        "    'block_16_project',      # 4x4\n",
        "]\n",
        "base_model_outputs = [base_model.get_layer(name).output for name in layer_names]\n",
        "\n",
        "# Create the feature extraction model also called Encoder Layers.\n",
        "encoding_layer_stack = tf.keras.Model(inputs=base_model.input, outputs=base_model_outputs)\n",
        "\n",
        "encoding_layer_stack.trainable = False"
      ],
      "metadata": {
        "id": "q2Q6dyoey2jA"
      },
      "execution_count": 38,
      "outputs": []
    },
    {
      "cell_type": "code",
      "source": [
        "decoding_layer_stack = [\n",
        "    pix2pix.upsample(512, 3),   # 4x4 -> 8x8\n",
        "    pix2pix.upsample(256, 3),   # 8x8 -> 16x16\n",
        "    pix2pix.upsample(128, 3),   # 16x16 -> 32x32\n",
        "    pix2pix.upsample(64, 3),    # 32x32 -> 64x64\n",
        "]"
      ],
      "metadata": {
        "id": "5gGNHGC7y6Yh"
      },
      "execution_count": 39,
      "outputs": []
    },
    {
      "cell_type": "code",
      "source": [
        "def unet_segmentation_model(output_channels):\n",
        "  inputs = tf.keras.layers.Input(shape=[128, 128, 3])\n",
        "\n",
        "  # Encoder Layer: Downsampling through the model\n",
        "  encoding_skips = encoding_layer_stack(inputs)\n",
        "  x = encoding_skips[-1]\n",
        "  encoding_skips = reversed(encoding_skips[:-1])\n",
        "\n",
        "  # Decoder: Upsampling and establishing the skip connections\n",
        "  for up, encoding_skip in zip(decoding_layer_stack, encoding_skips):\n",
        "    x = up(x)\n",
        "    concat = tf.keras.layers.Concatenate()\n",
        "    x = concat([x, encoding_skip])\n",
        "\n",
        "  # Output Layer: This is the last layer of the model\n",
        "  last_decoding_layer = tf.keras.layers.Conv2DTranspose(\n",
        "      output_channels, 3, strides=2,\n",
        "      padding='same')                # 64x64 -> 128x128\n",
        "\n",
        "  output = last_decoding_layer(x)\n",
        "\n",
        "  return tf.keras.Model(inputs=inputs, outputs=output)"
      ],
      "metadata": {
        "id": "F0Vu8qnAzAJt"
      },
      "execution_count": 40,
      "outputs": []
    },
    {
      "cell_type": "code",
      "source": [
        "# Creating prediction display function\n",
        "def create_mask(pred_mask):\n",
        "  pred_mask = tf.argmax(pred_mask, axis=-1)\n",
        "  pred_mask = pred_mask[..., tf.newaxis]\n",
        "  return pred_mask[0]\n",
        "\n",
        "\n",
        "def show_predictions(dataset=None, num=90):\n",
        "  if dataset:\n",
        "    for image, mask in dataset.take(num):\n",
        "      pred_mask = model.predict(image)\n",
        "      display([image[0], mask[0], create_mask(pred_mask)])\n",
        "  else:\n",
        "    display([sample_img, sample_msk,\n",
        "             create_mask(model.predict(sample_img[tf.newaxis, ...]))])"
      ],
      "metadata": {
        "id": "lqM6XP_anFAk"
      },
      "execution_count": 43,
      "outputs": []
    },
    {
      "cell_type": "code",
      "source": [
        "# Display output\n",
        "\n",
        "from IPython.display import clear_output\n",
        "class DisplayCallback(tf.keras.callbacks.Callback):\n",
        "  def on_epoch_end(self, epoch, logs=None):\n",
        "    clear_output(wait=True)\n",
        "    show_predictions()\n",
        "    print ('\\nSample Prediction after epoch {}\\n'.format(epoch+1))"
      ],
      "metadata": {
        "id": "nCzzs0-7nIxc"
      },
      "execution_count": 44,
      "outputs": []
    },
    {
      "cell_type": "code",
      "source": [
        "model = unet_segmentation_model(OUTPUT_CHANNELS)\n",
        "model.compile(optimizer='adam',\n",
        "              loss=tf.keras.losses.SparseCategoricalCrossentropy(from_logits=True),\n",
        "              metrics=['accuracy'])\n",
        "\n",
        "model.summary()"
      ],
      "metadata": {
        "colab": {
          "base_uri": "https://localhost:8080/"
        },
        "id": "aRzpQVbOzIk0",
        "outputId": "0183a44f-d9ad-4a8e-d026-d10f79eec867"
      },
      "execution_count": 46,
      "outputs": [
        {
          "output_type": "stream",
          "name": "stdout",
          "text": [
            "Model: \"model_3\"\n",
            "__________________________________________________________________________________________________\n",
            " Layer (type)                   Output Shape         Param #     Connected to                     \n",
            "==================================================================================================\n",
            " input_4 (InputLayer)           [(None, 128, 128, 3  0           []                               \n",
            "                                )]                                                                \n",
            "                                                                                                  \n",
            " model (Functional)             [(None, 64, 64, 96)  1841984     ['input_4[0][0]']                \n",
            "                                , (None, 32, 32, 14                                               \n",
            "                                4),                                                               \n",
            "                                 (None, 16, 16, 192                                               \n",
            "                                ),                                                                \n",
            "                                 (None, 8, 8, 576),                                               \n",
            "                                 (None, 4, 4, 320)]                                               \n",
            "                                                                                                  \n",
            " sequential (Sequential)        (None, 8, 8, 512)    1476608     ['model[2][4]']                  \n",
            "                                                                                                  \n",
            " concatenate_8 (Concatenate)    (None, 8, 8, 1088)   0           ['sequential[2][0]',             \n",
            "                                                                  'model[2][3]']                  \n",
            "                                                                                                  \n",
            " sequential_1 (Sequential)      (None, 16, 16, 256)  2507776     ['concatenate_8[0][0]']          \n",
            "                                                                                                  \n",
            " concatenate_9 (Concatenate)    (None, 16, 16, 448)  0           ['sequential_1[2][0]',           \n",
            "                                                                  'model[2][2]']                  \n",
            "                                                                                                  \n",
            " sequential_2 (Sequential)      (None, 32, 32, 128)  516608      ['concatenate_9[0][0]']          \n",
            "                                                                                                  \n",
            " concatenate_10 (Concatenate)   (None, 32, 32, 272)  0           ['sequential_2[2][0]',           \n",
            "                                                                  'model[2][1]']                  \n",
            "                                                                                                  \n",
            " sequential_3 (Sequential)      (None, 64, 64, 64)   156928      ['concatenate_10[0][0]']         \n",
            "                                                                                                  \n",
            " concatenate_11 (Concatenate)   (None, 64, 64, 160)  0           ['sequential_3[2][0]',           \n",
            "                                                                  'model[2][0]']                  \n",
            "                                                                                                  \n",
            " conv2d_transpose_6 (Conv2DTran  (None, 128, 128, 8)  11528      ['concatenate_11[0][0]']         \n",
            " spose)                                                                                           \n",
            "                                                                                                  \n",
            "==================================================================================================\n",
            "Total params: 6,511,432\n",
            "Trainable params: 4,667,528\n",
            "Non-trainable params: 1,843,904\n",
            "__________________________________________________________________________________________________\n"
          ]
        }
      ]
    },
    {
      "cell_type": "code",
      "source": [
        "# Setting parameters and start model training\n",
        "EPOCHS = 10\n",
        "VAL_SUBSPLITS = 2\n",
        "VALIDATION_STEPS = 79//BATCH_SIZE//VAL_SUBSPLITS\n",
        "\n",
        "model_history = model.fit(train_ds, epochs=EPOCHS,\n",
        "                          steps_per_epoch=STEPS_PER_EPOCH,\n",
        "                          validation_steps=VALIDATION_STEPS,\n",
        "                          validation_data=test_ds,\n",
        "                          callbacks=[DisplayCallback()]\n",
        "                          )"
      ],
      "metadata": {
        "id": "R-I-qrN0zdBw"
      },
      "execution_count": null,
      "outputs": []
    },
    {
      "cell_type": "code",
      "source": [
        "loss = model_history.history['loss']\n",
        "val_loss = model_history.history['val_loss']\n",
        "\n",
        "# Plotting Loss per epochs for model learning\n",
        "plt.figure(figsize=(8, 8))\n",
        "plt.title(\"Learning curve\")\n",
        "plt.plot(model_history.history[\"loss\"], label=\"loss\")\n",
        "plt.plot(model_history.history[\"val_loss\"], label=\"val_loss\")\n",
        "plt.plot( np.argmin(model_history.history[\"val_loss\"]), np.min(model_history.history[\"val_loss\"]), marker=\"x\", color=\"r\", label=\"best model\")\n",
        "plt.xlabel(\"Epochs\")\n",
        "plt.ylabel(\"log_loss\")\n",
        "plt.legend();"
      ],
      "metadata": {
        "id": "6NKJrgh3zczt"
      },
      "execution_count": null,
      "outputs": []
    },
    {
      "cell_type": "code",
      "source": [
        "# Make predictions from test dataset\n",
        "show_predictions(test_ds, 3)"
      ],
      "metadata": {
        "id": "ZiEuO1xSzIgL"
      },
      "execution_count": null,
      "outputs": []
    }
  ]
}